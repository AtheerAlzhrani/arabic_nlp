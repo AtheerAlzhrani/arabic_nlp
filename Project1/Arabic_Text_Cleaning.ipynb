{
  "cells": [
    {
      "cell_type": "markdown",
      "id": "aymarIl5lLRd",
      "metadata": {
        "id": "aymarIl5lLRd"
      },
      "source": [
        "# Arabic Text Cleaning\n",
        "\n",
        "I will perform text cleaning on the Arabic_Offensive_Comment_Detection dataset from HuggingFace, which is a multi-platform dataset designed for detecting offensive language in Arabic news comments.\n",
        "\n",
        "سأقوم بتنظيف النصوص على مجموعة بيانات لتعليقات الأخبار العربية متعددة المنصات لاكتشاف اللغة الهجومية.\n",
        "تم الحصول على هذه البيانات من HuggingFace."
      ]
    },
    {
      "cell_type": "markdown",
      "source": [
        "## Import required libraries"
      ],
      "metadata": {
        "id": "v0PFQh0tN-eZ"
      },
      "id": "v0PFQh0tN-eZ"
    },
    {
      "cell_type": "code",
      "execution_count": 1,
      "id": "1bd2ae51-a507-4f71-b5ef-d5e405516140",
      "metadata": {
        "colab": {
          "base_uri": "https://localhost:8080/"
        },
        "id": "1bd2ae51-a507-4f71-b5ef-d5e405516140",
        "outputId": "5fc65d48-4440-4978-bba6-6c0cd0460bba"
      },
      "outputs": [
        {
          "output_type": "stream",
          "name": "stderr",
          "text": [
            "[nltk_data] Downloading package stopwords to /root/nltk_data...\n",
            "[nltk_data]   Package stopwords is already up-to-date!\n"
          ]
        }
      ],
      "source": [
        "import nltk\n",
        "nltk.download('stopwords')\n",
        "from nltk.tokenize import word_tokenize\n",
        "from nltk.corpus import stopwords\n",
        "from nltk.stem import PorterStemmer\n",
        "from nltk.stem.porter import PorterStemmer\n",
        "from nltk.corpus import stopwords\n",
        "import re\n",
        "\n",
        "import pandas as pd\n",
        "import numpy as np\n"
      ]
    },
    {
      "cell_type": "markdown",
      "source": [
        "## Load and read the dataset from HuggingFace"
      ],
      "metadata": {
        "id": "vuNxJ3PxOOdX"
      },
      "id": "vuNxJ3PxOOdX"
    },
    {
      "cell_type": "code",
      "execution_count": 2,
      "id": "00b08c16-3ac6-4e1c-8f6c-71b85a4c8b60",
      "metadata": {
        "id": "00b08c16-3ac6-4e1c-8f6c-71b85a4c8b60",
        "colab": {
          "base_uri": "https://localhost:8080/"
        },
        "outputId": "c85b7ae8-6881-4922-ed78-8de42857adea"
      },
      "outputs": [
        {
          "output_type": "stream",
          "name": "stderr",
          "text": [
            "/usr/local/lib/python3.10/dist-packages/huggingface_hub/utils/_token.py:89: UserWarning: \n",
            "The secret `HF_TOKEN` does not exist in your Colab secrets.\n",
            "To authenticate with the Hugging Face Hub, create a token in your settings tab (https://huggingface.co/settings/tokens), set it as secret in your Google Colab and restart your session.\n",
            "You will be able to reuse this secret in all of your notebooks.\n",
            "Please note that authentication is recommended but still optional to access public models or datasets.\n",
            "  warnings.warn(\n"
          ]
        }
      ],
      "source": [
        "df = pd.read_parquet(\"hf://datasets/asas-ai/Arabic_Offensive_Comment_Detection/data/train-00000-of-00001-6b8f4582b379a401.parquet\")"
      ]
    },
    {
      "cell_type": "markdown",
      "source": [
        "## Explore the dataset"
      ],
      "metadata": {
        "id": "k9y_okOmOdIq"
      },
      "id": "k9y_okOmOdIq"
    },
    {
      "cell_type": "markdown",
      "source": [
        "**قمت بطباعة اول خمس اسطر من مجموعة البيانات للاطلاع عليها**"
      ],
      "metadata": {
        "id": "OknK50vKV5EJ"
      },
      "id": "OknK50vKV5EJ"
    },
    {
      "cell_type": "code",
      "execution_count": 3,
      "id": "VczDwQwIBWv6",
      "metadata": {
        "colab": {
          "base_uri": "https://localhost:8080/",
          "height": 206
        },
        "id": "VczDwQwIBWv6",
        "outputId": "bba73aa0-fcbe-4728-8c23-52d7079fd4e0"
      },
      "outputs": [
        {
          "output_type": "execute_result",
          "data": {
            "text/plain": [
              "   Id  Platform                                            Comment  \\\n",
              "0   1   Twitter  @User.IDX في فترة الصغر والمراهقة يكون من الصع...   \n",
              "1   2  Facebook  \"ردا على معظم الردود .. أحب اوضحلكم ان عمليات ...   \n",
              "2   3   Twitter  @User.IDX يجب ان تذكروا ان لكل سنة ثيم للحفل و...   \n",
              "3   4   YouTube  بتعمل حلقة صغيرة عشان عندي امتحان بكرة ومتضيعل...   \n",
              "4   5   YouTube             على طاري السطحيه مدري ليه تذكرت فيحان    \n",
              "\n",
              "  Majority_Label  Agreement  NumOfJudgementUsed  Total_Judgement  \\\n",
              "0  Non-Offensive      100.0                   3                3   \n",
              "1  Non-Offensive      100.0                   3                4   \n",
              "2  Non-Offensive      100.0                   3                5   \n",
              "3  Non-Offensive      100.0                   3                3   \n",
              "4  Non-Offensive      100.0                   3                3   \n",
              "\n",
              "  Vulgar:V/HateSpeech:HS/None:-  \n",
              "0                             -  \n",
              "1                             -  \n",
              "2                             -  \n",
              "3                             -  \n",
              "4                             -  "
            ],
            "text/html": [
              "\n",
              "  <div id=\"df-28e2929d-5053-4f61-91cb-4af2cb08ede8\" class=\"colab-df-container\">\n",
              "    <div>\n",
              "<style scoped>\n",
              "    .dataframe tbody tr th:only-of-type {\n",
              "        vertical-align: middle;\n",
              "    }\n",
              "\n",
              "    .dataframe tbody tr th {\n",
              "        vertical-align: top;\n",
              "    }\n",
              "\n",
              "    .dataframe thead th {\n",
              "        text-align: right;\n",
              "    }\n",
              "</style>\n",
              "<table border=\"1\" class=\"dataframe\">\n",
              "  <thead>\n",
              "    <tr style=\"text-align: right;\">\n",
              "      <th></th>\n",
              "      <th>Id</th>\n",
              "      <th>Platform</th>\n",
              "      <th>Comment</th>\n",
              "      <th>Majority_Label</th>\n",
              "      <th>Agreement</th>\n",
              "      <th>NumOfJudgementUsed</th>\n",
              "      <th>Total_Judgement</th>\n",
              "      <th>Vulgar:V/HateSpeech:HS/None:-</th>\n",
              "    </tr>\n",
              "  </thead>\n",
              "  <tbody>\n",
              "    <tr>\n",
              "      <th>0</th>\n",
              "      <td>1</td>\n",
              "      <td>Twitter</td>\n",
              "      <td>@User.IDX في فترة الصغر والمراهقة يكون من الصع...</td>\n",
              "      <td>Non-Offensive</td>\n",
              "      <td>100.0</td>\n",
              "      <td>3</td>\n",
              "      <td>3</td>\n",
              "      <td>-</td>\n",
              "    </tr>\n",
              "    <tr>\n",
              "      <th>1</th>\n",
              "      <td>2</td>\n",
              "      <td>Facebook</td>\n",
              "      <td>\"ردا على معظم الردود .. أحب اوضحلكم ان عمليات ...</td>\n",
              "      <td>Non-Offensive</td>\n",
              "      <td>100.0</td>\n",
              "      <td>3</td>\n",
              "      <td>4</td>\n",
              "      <td>-</td>\n",
              "    </tr>\n",
              "    <tr>\n",
              "      <th>2</th>\n",
              "      <td>3</td>\n",
              "      <td>Twitter</td>\n",
              "      <td>@User.IDX يجب ان تذكروا ان لكل سنة ثيم للحفل و...</td>\n",
              "      <td>Non-Offensive</td>\n",
              "      <td>100.0</td>\n",
              "      <td>3</td>\n",
              "      <td>5</td>\n",
              "      <td>-</td>\n",
              "    </tr>\n",
              "    <tr>\n",
              "      <th>3</th>\n",
              "      <td>4</td>\n",
              "      <td>YouTube</td>\n",
              "      <td>بتعمل حلقة صغيرة عشان عندي امتحان بكرة ومتضيعل...</td>\n",
              "      <td>Non-Offensive</td>\n",
              "      <td>100.0</td>\n",
              "      <td>3</td>\n",
              "      <td>3</td>\n",
              "      <td>-</td>\n",
              "    </tr>\n",
              "    <tr>\n",
              "      <th>4</th>\n",
              "      <td>5</td>\n",
              "      <td>YouTube</td>\n",
              "      <td>على طاري السطحيه مدري ليه تذكرت فيحان</td>\n",
              "      <td>Non-Offensive</td>\n",
              "      <td>100.0</td>\n",
              "      <td>3</td>\n",
              "      <td>3</td>\n",
              "      <td>-</td>\n",
              "    </tr>\n",
              "  </tbody>\n",
              "</table>\n",
              "</div>\n",
              "    <div class=\"colab-df-buttons\">\n",
              "\n",
              "  <div class=\"colab-df-container\">\n",
              "    <button class=\"colab-df-convert\" onclick=\"convertToInteractive('df-28e2929d-5053-4f61-91cb-4af2cb08ede8')\"\n",
              "            title=\"Convert this dataframe to an interactive table.\"\n",
              "            style=\"display:none;\">\n",
              "\n",
              "  <svg xmlns=\"http://www.w3.org/2000/svg\" height=\"24px\" viewBox=\"0 -960 960 960\">\n",
              "    <path d=\"M120-120v-720h720v720H120Zm60-500h600v-160H180v160Zm220 220h160v-160H400v160Zm0 220h160v-160H400v160ZM180-400h160v-160H180v160Zm440 0h160v-160H620v160ZM180-180h160v-160H180v160Zm440 0h160v-160H620v160Z\"/>\n",
              "  </svg>\n",
              "    </button>\n",
              "\n",
              "  <style>\n",
              "    .colab-df-container {\n",
              "      display:flex;\n",
              "      gap: 12px;\n",
              "    }\n",
              "\n",
              "    .colab-df-convert {\n",
              "      background-color: #E8F0FE;\n",
              "      border: none;\n",
              "      border-radius: 50%;\n",
              "      cursor: pointer;\n",
              "      display: none;\n",
              "      fill: #1967D2;\n",
              "      height: 32px;\n",
              "      padding: 0 0 0 0;\n",
              "      width: 32px;\n",
              "    }\n",
              "\n",
              "    .colab-df-convert:hover {\n",
              "      background-color: #E2EBFA;\n",
              "      box-shadow: 0px 1px 2px rgba(60, 64, 67, 0.3), 0px 1px 3px 1px rgba(60, 64, 67, 0.15);\n",
              "      fill: #174EA6;\n",
              "    }\n",
              "\n",
              "    .colab-df-buttons div {\n",
              "      margin-bottom: 4px;\n",
              "    }\n",
              "\n",
              "    [theme=dark] .colab-df-convert {\n",
              "      background-color: #3B4455;\n",
              "      fill: #D2E3FC;\n",
              "    }\n",
              "\n",
              "    [theme=dark] .colab-df-convert:hover {\n",
              "      background-color: #434B5C;\n",
              "      box-shadow: 0px 1px 3px 1px rgba(0, 0, 0, 0.15);\n",
              "      filter: drop-shadow(0px 1px 2px rgba(0, 0, 0, 0.3));\n",
              "      fill: #FFFFFF;\n",
              "    }\n",
              "  </style>\n",
              "\n",
              "    <script>\n",
              "      const buttonEl =\n",
              "        document.querySelector('#df-28e2929d-5053-4f61-91cb-4af2cb08ede8 button.colab-df-convert');\n",
              "      buttonEl.style.display =\n",
              "        google.colab.kernel.accessAllowed ? 'block' : 'none';\n",
              "\n",
              "      async function convertToInteractive(key) {\n",
              "        const element = document.querySelector('#df-28e2929d-5053-4f61-91cb-4af2cb08ede8');\n",
              "        const dataTable =\n",
              "          await google.colab.kernel.invokeFunction('convertToInteractive',\n",
              "                                                    [key], {});\n",
              "        if (!dataTable) return;\n",
              "\n",
              "        const docLinkHtml = 'Like what you see? Visit the ' +\n",
              "          '<a target=\"_blank\" href=https://colab.research.google.com/notebooks/data_table.ipynb>data table notebook</a>'\n",
              "          + ' to learn more about interactive tables.';\n",
              "        element.innerHTML = '';\n",
              "        dataTable['output_type'] = 'display_data';\n",
              "        await google.colab.output.renderOutput(dataTable, element);\n",
              "        const docLink = document.createElement('div');\n",
              "        docLink.innerHTML = docLinkHtml;\n",
              "        element.appendChild(docLink);\n",
              "      }\n",
              "    </script>\n",
              "  </div>\n",
              "\n",
              "\n",
              "<div id=\"df-66d97494-7325-4482-8cc6-fa904ee56d77\">\n",
              "  <button class=\"colab-df-quickchart\" onclick=\"quickchart('df-66d97494-7325-4482-8cc6-fa904ee56d77')\"\n",
              "            title=\"Suggest charts\"\n",
              "            style=\"display:none;\">\n",
              "\n",
              "<svg xmlns=\"http://www.w3.org/2000/svg\" height=\"24px\"viewBox=\"0 0 24 24\"\n",
              "     width=\"24px\">\n",
              "    <g>\n",
              "        <path d=\"M19 3H5c-1.1 0-2 .9-2 2v14c0 1.1.9 2 2 2h14c1.1 0 2-.9 2-2V5c0-1.1-.9-2-2-2zM9 17H7v-7h2v7zm4 0h-2V7h2v10zm4 0h-2v-4h2v4z\"/>\n",
              "    </g>\n",
              "</svg>\n",
              "  </button>\n",
              "\n",
              "<style>\n",
              "  .colab-df-quickchart {\n",
              "      --bg-color: #E8F0FE;\n",
              "      --fill-color: #1967D2;\n",
              "      --hover-bg-color: #E2EBFA;\n",
              "      --hover-fill-color: #174EA6;\n",
              "      --disabled-fill-color: #AAA;\n",
              "      --disabled-bg-color: #DDD;\n",
              "  }\n",
              "\n",
              "  [theme=dark] .colab-df-quickchart {\n",
              "      --bg-color: #3B4455;\n",
              "      --fill-color: #D2E3FC;\n",
              "      --hover-bg-color: #434B5C;\n",
              "      --hover-fill-color: #FFFFFF;\n",
              "      --disabled-bg-color: #3B4455;\n",
              "      --disabled-fill-color: #666;\n",
              "  }\n",
              "\n",
              "  .colab-df-quickchart {\n",
              "    background-color: var(--bg-color);\n",
              "    border: none;\n",
              "    border-radius: 50%;\n",
              "    cursor: pointer;\n",
              "    display: none;\n",
              "    fill: var(--fill-color);\n",
              "    height: 32px;\n",
              "    padding: 0;\n",
              "    width: 32px;\n",
              "  }\n",
              "\n",
              "  .colab-df-quickchart:hover {\n",
              "    background-color: var(--hover-bg-color);\n",
              "    box-shadow: 0 1px 2px rgba(60, 64, 67, 0.3), 0 1px 3px 1px rgba(60, 64, 67, 0.15);\n",
              "    fill: var(--button-hover-fill-color);\n",
              "  }\n",
              "\n",
              "  .colab-df-quickchart-complete:disabled,\n",
              "  .colab-df-quickchart-complete:disabled:hover {\n",
              "    background-color: var(--disabled-bg-color);\n",
              "    fill: var(--disabled-fill-color);\n",
              "    box-shadow: none;\n",
              "  }\n",
              "\n",
              "  .colab-df-spinner {\n",
              "    border: 2px solid var(--fill-color);\n",
              "    border-color: transparent;\n",
              "    border-bottom-color: var(--fill-color);\n",
              "    animation:\n",
              "      spin 1s steps(1) infinite;\n",
              "  }\n",
              "\n",
              "  @keyframes spin {\n",
              "    0% {\n",
              "      border-color: transparent;\n",
              "      border-bottom-color: var(--fill-color);\n",
              "      border-left-color: var(--fill-color);\n",
              "    }\n",
              "    20% {\n",
              "      border-color: transparent;\n",
              "      border-left-color: var(--fill-color);\n",
              "      border-top-color: var(--fill-color);\n",
              "    }\n",
              "    30% {\n",
              "      border-color: transparent;\n",
              "      border-left-color: var(--fill-color);\n",
              "      border-top-color: var(--fill-color);\n",
              "      border-right-color: var(--fill-color);\n",
              "    }\n",
              "    40% {\n",
              "      border-color: transparent;\n",
              "      border-right-color: var(--fill-color);\n",
              "      border-top-color: var(--fill-color);\n",
              "    }\n",
              "    60% {\n",
              "      border-color: transparent;\n",
              "      border-right-color: var(--fill-color);\n",
              "    }\n",
              "    80% {\n",
              "      border-color: transparent;\n",
              "      border-right-color: var(--fill-color);\n",
              "      border-bottom-color: var(--fill-color);\n",
              "    }\n",
              "    90% {\n",
              "      border-color: transparent;\n",
              "      border-bottom-color: var(--fill-color);\n",
              "    }\n",
              "  }\n",
              "</style>\n",
              "\n",
              "  <script>\n",
              "    async function quickchart(key) {\n",
              "      const quickchartButtonEl =\n",
              "        document.querySelector('#' + key + ' button');\n",
              "      quickchartButtonEl.disabled = true;  // To prevent multiple clicks.\n",
              "      quickchartButtonEl.classList.add('colab-df-spinner');\n",
              "      try {\n",
              "        const charts = await google.colab.kernel.invokeFunction(\n",
              "            'suggestCharts', [key], {});\n",
              "      } catch (error) {\n",
              "        console.error('Error during call to suggestCharts:', error);\n",
              "      }\n",
              "      quickchartButtonEl.classList.remove('colab-df-spinner');\n",
              "      quickchartButtonEl.classList.add('colab-df-quickchart-complete');\n",
              "    }\n",
              "    (() => {\n",
              "      let quickchartButtonEl =\n",
              "        document.querySelector('#df-66d97494-7325-4482-8cc6-fa904ee56d77 button');\n",
              "      quickchartButtonEl.style.display =\n",
              "        google.colab.kernel.accessAllowed ? 'block' : 'none';\n",
              "    })();\n",
              "  </script>\n",
              "</div>\n",
              "\n",
              "    </div>\n",
              "  </div>\n"
            ],
            "application/vnd.google.colaboratory.intrinsic+json": {
              "type": "dataframe",
              "variable_name": "df",
              "summary": "{\n  \"name\": \"df\",\n  \"rows\": 4000,\n  \"fields\": [\n    {\n      \"column\": \"Id\",\n      \"properties\": {\n        \"dtype\": \"number\",\n        \"std\": 1154,\n        \"min\": 1,\n        \"max\": 4000,\n        \"num_unique_values\": 4000,\n        \"samples\": [\n          556,\n          3492,\n          528\n        ],\n        \"semantic_type\": \"\",\n        \"description\": \"\"\n      }\n    },\n    {\n      \"column\": \"Platform\",\n      \"properties\": {\n        \"dtype\": \"category\",\n        \"num_unique_values\": 3,\n        \"samples\": [\n          \"Twitter\",\n          \"Facebook\",\n          \"YouTube\"\n        ],\n        \"semantic_type\": \"\",\n        \"description\": \"\"\n      }\n    },\n    {\n      \"column\": \"Comment\",\n      \"properties\": {\n        \"dtype\": \"string\",\n        \"num_unique_values\": 4000,\n        \"samples\": [\n          \"\\u0645\\u062a\\u0644 \\u0627\\u064a \\u0627\\u062f\\u0648\\u064a\\u0629 \\u0645\\u062b\\u0644\\u0627\\u064b \\u0644\\u0627\\u0646 \\u0627\\u0646\\u0627 \\u0628\\u0627\\u062e\\u062f \\u0645\\u0633\\u0643\\u0646\\u0627\\u062a \\u0643\\u062a\\u064a\\u0631 \\ud83d\\ude10\\ud83d\\ude10\\ud83d\\ude10 \",\n          \"\\u0627\\u0646\\u062a \\u0631\\u0627\\u0626\\u0639 \\u0627\\u0646\\u0627 \\u0643\\u0646\\u062a \\u0627\\u0634\\u0648\\u0641 \\u0639\\u0646\\u0627\\u0648\\u064a\\u0646 \\u0641\\u064a\\u062f\\u064a\\u0648\\u0647\\u0627\\u062a\\u0643 \\u0644\\u0643\\u0646 \\u0643\\u0646\\u062a \\u0627\\u0639\\u062a\\u0642\\u062f \\u0627\\u0646 \\u0641\\u064a\\u062f\\u064a\\u0648\\u0647\\u0627\\u062a\\u0643 \\u0639\\u0627\\u062f\\u064a\\u0629 \\u0644\\u0643\\u0646 \\u0644\\u0645\\u0627 \\u0634\\u0641\\u062a \\u062d\\u0644\\u0642\\u0627\\u062a \\u0627\\u0644\\u062d\\u0631\\u0628 \\u0627\\u0644\\u0639\\u0627\\u0644\\u0645\\u064a\\u0629 \\u0648 \\u0643\\u0631\\u064a\\u0645 \\u0628\\u0646\\u0632\\u064a\\u0645\\u0627 \\u062d\\u0628\\u064a\\u062a\\u0643 \\u0648 \\u0645\\u0627 \\u062a\\u0631\\u0643\\u062a \\u0641\\u064a\\u062f\\u064a\\u0648 \\u064a\\u0641\\u0648\\u062a\\u0646\\u064a \",\n          \"@User.IDX \\u0644\\u0633\\u0627\\u0646 \\u062d\\u0627\\u0644 #\\u0627\\u0644\\u0625\\u062e\\u0648\\u0627\\u0646\\u064a \\u064a\\u0642\\u0648\\u0644 \\u0641\\u064a \\u0627\\u0644\\u0648\\u0642\\u062a \\u0627\\u0644\\u0642\\u0631\\u064a\\u0628 \\u0633\\u062a\\u0646\\u0637\\u0644\\u0642 \\u0637\\u0627\\u0626\\u0631\\u0627\\u062a #\\u0623\\u0631\\u062f\\u0648\\u063a\\u0627\\u0646 \\u0644\\u0642\\u0635\\u0641 \\u0645\\u0648\\u0627\\u0642\\u0639 \\u0627\\u0644\\u064a\\u0645\\u064a\\u0646 \\u0627\\u0644\\u0645\\u062a\\u0637\\u0631\\u0641 \\u0641\\u064a \\u062f\\u0648\\u0644 \\u0627\\u0644\\u062c\\u0648\\u0627\\u0631 \"\n        ],\n        \"semantic_type\": \"\",\n        \"description\": \"\"\n      }\n    },\n    {\n      \"column\": \"Majority_Label\",\n      \"properties\": {\n        \"dtype\": \"category\",\n        \"num_unique_values\": 2,\n        \"samples\": [\n          \"Offensive\",\n          \"Non-Offensive\"\n        ],\n        \"semantic_type\": \"\",\n        \"description\": \"\"\n      }\n    },\n    {\n      \"column\": \"Agreement\",\n      \"properties\": {\n        \"dtype\": \"number\",\n        \"std\": 13.643448563319813,\n        \"min\": 66.6666666666666,\n        \"max\": 100.0,\n        \"num_unique_values\": 2,\n        \"samples\": [\n          66.6666666666666,\n          100.0\n        ],\n        \"semantic_type\": \"\",\n        \"description\": \"\"\n      }\n    },\n    {\n      \"column\": \"NumOfJudgementUsed\",\n      \"properties\": {\n        \"dtype\": \"number\",\n        \"std\": 0,\n        \"min\": 3,\n        \"max\": 3,\n        \"num_unique_values\": 1,\n        \"samples\": [\n          3\n        ],\n        \"semantic_type\": \"\",\n        \"description\": \"\"\n      }\n    },\n    {\n      \"column\": \"Total_Judgement\",\n      \"properties\": {\n        \"dtype\": \"number\",\n        \"std\": 0,\n        \"min\": 3,\n        \"max\": 5,\n        \"num_unique_values\": 3,\n        \"samples\": [\n          3\n        ],\n        \"semantic_type\": \"\",\n        \"description\": \"\"\n      }\n    },\n    {\n      \"column\": \"Vulgar:V/HateSpeech:HS/None:-\",\n      \"properties\": {\n        \"dtype\": \"category\",\n        \"num_unique_values\": 3,\n        \"samples\": [\n          \"-\"\n        ],\n        \"semantic_type\": \"\",\n        \"description\": \"\"\n      }\n    }\n  ]\n}"
            }
          },
          "metadata": {},
          "execution_count": 3
        }
      ],
      "source": [
        "df.head()"
      ]
    },
    {
      "cell_type": "markdown",
      "source": [
        "**قمت بطباعة المعلومات الاساسية لمجموعة البيانات كنوع البيانات لكل عمود وعدد الصفوف والذي يظهر انه يساوي 4000 صف وعدد الاعمدة  يساوي 8 اعمدة كما يتضح انه لايوجد بيانات فارغه**"
      ],
      "metadata": {
        "id": "L4Izn6qRWrA8"
      },
      "id": "L4Izn6qRWrA8"
    },
    {
      "cell_type": "code",
      "source": [
        "df.info()"
      ],
      "metadata": {
        "colab": {
          "base_uri": "https://localhost:8080/"
        },
        "id": "lk0VQL0aWlnw",
        "outputId": "df8efaa4-ad21-485c-b7d6-7c4891f0d569"
      },
      "id": "lk0VQL0aWlnw",
      "execution_count": 4,
      "outputs": [
        {
          "output_type": "stream",
          "name": "stdout",
          "text": [
            "<class 'pandas.core.frame.DataFrame'>\n",
            "RangeIndex: 4000 entries, 0 to 3999\n",
            "Data columns (total 8 columns):\n",
            " #   Column                         Non-Null Count  Dtype  \n",
            "---  ------                         --------------  -----  \n",
            " 0   Id                             4000 non-null   int64  \n",
            " 1   Platform                       4000 non-null   object \n",
            " 2   Comment                        4000 non-null   object \n",
            " 3   Majority_Label                 4000 non-null   object \n",
            " 4   Agreement                      4000 non-null   float64\n",
            " 5   NumOfJudgementUsed             4000 non-null   int64  \n",
            " 6   Total_Judgement                4000 non-null   int64  \n",
            " 7   Vulgar:V/HateSpeech:HS/None:-  4000 non-null   object \n",
            "dtypes: float64(1), int64(3), object(4)\n",
            "memory usage: 250.1+ KB\n"
          ]
        }
      ]
    },
    {
      "cell_type": "markdown",
      "source": [
        "**هنا قمت بحذف الاعمدة الغير مفيدة و التي لا حاجة لها**"
      ],
      "metadata": {
        "id": "PV7wegbWXtDq"
      },
      "id": "PV7wegbWXtDq"
    },
    {
      "cell_type": "code",
      "execution_count": 5,
      "id": "8uBXUAszBzpO",
      "metadata": {
        "colab": {
          "base_uri": "https://localhost:8080/"
        },
        "id": "8uBXUAszBzpO",
        "outputId": "305b1898-76b0-4d80-d729-0e00cf096cf1"
      },
      "outputs": [
        {
          "output_type": "execute_result",
          "data": {
            "text/plain": [
              "Index(['Id', 'Platform', 'Comment', 'Majority_Label', 'Agreement',\n",
              "       'NumOfJudgementUsed', 'Total_Judgement',\n",
              "       'Vulgar:V/HateSpeech:HS/None:-'],\n",
              "      dtype='object')"
            ]
          },
          "metadata": {},
          "execution_count": 5
        }
      ],
      "source": [
        "df.columns"
      ]
    },
    {
      "cell_type": "code",
      "execution_count": 6,
      "id": "IsT4vP0zBwkH",
      "metadata": {
        "id": "IsT4vP0zBwkH"
      },
      "outputs": [],
      "source": [
        "df = df.drop(['Id', 'Platform', 'Agreement', 'NumOfJudgementUsed', 'Total_Judgement','Vulgar:V/HateSpeech:HS/None:-'], axis=1)"
      ]
    },
    {
      "cell_type": "markdown",
      "source": [
        "**هنا ساقوم بالاطلاع على توزيع البيانات في العمود الذي يحتوي على تصنيف التعليقات كمهينة او غير مهينة**"
      ],
      "metadata": {
        "id": "-EXfyZOOYQzP"
      },
      "id": "-EXfyZOOYQzP"
    },
    {
      "cell_type": "code",
      "execution_count": 7,
      "id": "Fph52gswCgnn",
      "metadata": {
        "colab": {
          "base_uri": "https://localhost:8080/",
          "height": 178
        },
        "id": "Fph52gswCgnn",
        "outputId": "6d432e97-04ce-49e7-e427-b4dd8fee0803"
      },
      "outputs": [
        {
          "output_type": "execute_result",
          "data": {
            "text/plain": [
              "Majority_Label\n",
              "Non-Offensive    3325\n",
              "Offensive         675\n",
              "Name: count, dtype: int64"
            ],
            "text/html": [
              "<div>\n",
              "<style scoped>\n",
              "    .dataframe tbody tr th:only-of-type {\n",
              "        vertical-align: middle;\n",
              "    }\n",
              "\n",
              "    .dataframe tbody tr th {\n",
              "        vertical-align: top;\n",
              "    }\n",
              "\n",
              "    .dataframe thead th {\n",
              "        text-align: right;\n",
              "    }\n",
              "</style>\n",
              "<table border=\"1\" class=\"dataframe\">\n",
              "  <thead>\n",
              "    <tr style=\"text-align: right;\">\n",
              "      <th></th>\n",
              "      <th>count</th>\n",
              "    </tr>\n",
              "    <tr>\n",
              "      <th>Majority_Label</th>\n",
              "      <th></th>\n",
              "    </tr>\n",
              "  </thead>\n",
              "  <tbody>\n",
              "    <tr>\n",
              "      <th>Non-Offensive</th>\n",
              "      <td>3325</td>\n",
              "    </tr>\n",
              "    <tr>\n",
              "      <th>Offensive</th>\n",
              "      <td>675</td>\n",
              "    </tr>\n",
              "  </tbody>\n",
              "</table>\n",
              "</div><br><label><b>dtype:</b> int64</label>"
            ]
          },
          "metadata": {},
          "execution_count": 7
        }
      ],
      "source": [
        "df['Majority_Label'].value_counts()"
      ]
    },
    {
      "cell_type": "code",
      "execution_count": 8,
      "id": "kYZDAYDsdYpJ",
      "metadata": {
        "colab": {
          "base_uri": "https://localhost:8080/"
        },
        "id": "kYZDAYDsdYpJ",
        "outputId": "03f8ef6f-f30c-4acc-a320-1be70011426b"
      },
      "outputs": [
        {
          "output_type": "stream",
          "name": "stdout",
          "text": [
            "Majority_Label\n",
            "0    3325\n",
            "1     675\n",
            "Name: count, dtype: int64\n"
          ]
        }
      ],
      "source": [
        "df['Majority_Label'] = df['Majority_Label'].replace({'Non-Offensive': 0, 'Offensive': 1})\n",
        "print(df['Majority_Label'].value_counts())"
      ]
    },
    {
      "cell_type": "code",
      "source": [
        "import matplotlib.pyplot as plt\n",
        "\n",
        "# Count the occurrences of each label\n",
        "label_counts = df['Majority_Label'].value_counts()\n",
        "\n",
        "# Create the pie chart\n",
        "plt.figure(figsize=(8, 8))\n",
        "plt.pie(label_counts, labels=label_counts.index, autopct='%1.1f%%', startangle=90, colors=['lightblue', 'lightcoral'])\n",
        "plt.axis('equal')\n",
        "plt.title('Distribution of Majority Labels')\n",
        "plt.show()\n"
      ],
      "metadata": {
        "colab": {
          "base_uri": "https://localhost:8080/",
          "height": 675
        },
        "id": "DubeopgcLkxj",
        "outputId": "3f2acfef-b816-4562-ddf8-c2f372f56aaf"
      },
      "id": "DubeopgcLkxj",
      "execution_count": 9,
      "outputs": [
        {
          "output_type": "display_data",
          "data": {
            "text/plain": [
              "<Figure size 800x800 with 1 Axes>"
            ],
            "image/png": "[encoded data removed]"
          },
          "metadata": {}
        }
      ]
    },
    {
      "cell_type": "markdown",
      "source": [
        "\n",
        "**توزيع عمود Majority_Label يشير إلى ما يلي**\n",
        "\n",
        "التعليقات غير المهينة 0: يوجد 3325 حالة (الفئة الأكبر)\n",
        "\n",
        "التعليقات المهينة 1: يوجد 675 حالة (الفئة الأقل)\n",
        "\n",
        "مجموعة البيانات غير متوازنة بشكل كبير، حيث تمثل التعليقات غير المهينة حوالي 83% (3325 من إجمالي 4000)، بينما تمثل لتعليقات المهينة حوالي 17%.\n",
        "هذا الاختلال قد يؤثر على أداء نماذج التعلم الآلي، خصوصًا النماذج التي تكون حساسة لتوزيعات الفئات.\n",
        "\n",
        "\n"
      ],
      "metadata": {
        "id": "RPqJgiTVZpPF"
      },
      "id": "RPqJgiTVZpPF"
    },
    {
      "cell_type": "markdown",
      "source": [
        "**هنا سألقي نظرة على النصوص الموجودة في عمود النص**"
      ],
      "metadata": {
        "id": "1rTt_Kqka4_m"
      },
      "id": "1rTt_Kqka4_m"
    },
    {
      "cell_type": "code",
      "execution_count": 11,
      "id": "459864da-c79b-4ba5-a4e0-f4fae3c50d8a",
      "metadata": {
        "colab": {
          "base_uri": "https://localhost:8080/"
        },
        "id": "459864da-c79b-4ba5-a4e0-f4fae3c50d8a",
        "outputId": "4801b7ee-aa24-44ae-bfac-642b04ca1888"
      },
      "outputs": [
        {
          "output_type": "stream",
          "name": "stdout",
          "text": [
            "\n",
            "@User.IDX من اجمل واروع المسلسلات التي رأيتها \n",
            "\n",
            "بعيد المشهد الاخير اكثر من مره \n",
            "\n",
            "الإضاءة بالاستديو ابو كلب ياشنب .. مسوي لبناني؟ \n",
            "\n",
            "@User.IDX لا يلمع أحد لمنسوبي داعش الارهابي الا ارهابي مثله تبا لكم \n",
            "\n",
            "ولسه بتسأل ليه البلاد حيطه مالت ،، مابقاش فيه أمل لما قولنا أمل ماتت ، قتلنا طموحنا لما قدمولنا نعشو كنا معكم من اعماق ال.أنت هارشو \n",
            "\n",
            "@User.IDX اكيد في شي لا يسكتو حتي يعرفو السبب \n",
            "\n",
            " <url> ترا هذول مايمثلون السعودية عمر السوريين ولا غيرهم ماكانو ذليلين بالعكس ما ثارو الا انهم شريفين واصيلين مايرضون الظلم \n",
            "\n",
            "الحلقة هاي لازم تترجم بجد مفيدة \n",
            "\n",
            "ملاحظة صغيرة فقط : الآن الناس أصبحت أكثر ثقافة ووعي ، ويعلمون أن أصل الوحدة إسلامية وليس عربية . طالباتي الهنديات والروسيات في المدرسة يقولون لي معلمتي أصل الوحدة على الارض وبين الشعوب وحدة إسلامية وليست وحدة عروبة. ملاحظة أخرى أكثر غرابة أن عمر طالباتي 12 سنة فقط وعندهم هذا الوعي !!! \n",
            "\n",
            "هاذي لبنان أقسى من قلوبهم مافيش بلد عديمة الإنسانية جيرانكم الزفت ومعاملة عنصرية لي هالدرجه سبحان الله بكرة لما يجيكم الدور من إسرائيل مش حتلقو جار أكرم من سوريا \n",
            "\n",
            "هذا المصطلح ليس متداول من قبل الجميع هو ينحصر في فئة معينة من المستخدمين وليس بالضرورة معرفا للهجة التونسية ! كان عليكم اختيار مصطلح يستعمل من قبل جميع التونسيين دون استثناء ! وربما هناك بعض التونسيين الذين سيتعرفون عليه من خلال هذا الفيديو -_- انا شخصيا لا استعمل هذا المصطلح ولا اعتبره جزءا من قاموسي اليومي رغم اني تونسية واعرف جيدا تفاصيل لهجتي \n",
            "\n",
            "@User.IDX لم ينجح تحديث التطبيق تم حزفه من ذاكرتنا. #لم_تسقط_بعد ✌الاعتصام مستمر \n",
            "\n",
            "ههههه...السعوديين ملتهين بالبيك والنساء والتفاخر بالاموال والايرانيين حضارة ممتدة لالاف السنين وبعمرا محد غزاها،،،هسه امفكرين بان تغزون ايران،،السنه في العراق وسوريا اتبهدلو وماعطيتوهم حتى اقامات،،،وهاي اليمن ماتستجرون تدخلوها بقواتكم.....اذا بدكن تحلمو فاحلمو بواقعية....تحياتي \n",
            "\n",
            "@User.IDX النابحين في سله واحده لذلك تجد هذه السلع الفاسده وهى الخنزيره بمرتزقتها مثل الأسماك الفاسده ومرميه عند الشبوك المرتزقة ورطانين والحكومة القطريه الفاشله ورطانه بماادخل قطر في نفق مجهول من عاق وجزائه من جنس عمله \n",
            "\n",
            "@User.IDX ينتهي بزحف شامل نحو القدس من الخليج للمحيط يوم الغضب \n",
            "\n",
            "@User.IDX لا ولن ترتقي حتى ينتصر الحق ويرجع الامن لليبيا ولو تصيحون ليوم الدين فلن يسمع احد لكم ياالكلاب \n",
            "\n",
            "@User.IDX ايش اسم الشركة علشان ندعمها وما نشتري الإ منها \n",
            "\n",
            "هالفلوق قديم صح يا رجال \n",
            "\n",
            "@User.IDX هذه القبيحة الذي اشترت لها قطر جائزة نوبل والان هي تتسكع في تركيا \n",
            "\n",
            "@User.IDX هذا الاحتفاء خاص بالكبار فقط اما ذميمكم لاذكر له الا مزبله التاريخ \n",
            "\n",
            "عمر ايش نوع كاميرتك و ايش اسمها لو سمحت 😊 \n",
            "\n",
            "@User.IDX لما يتوقف حكام العرب من اتهام شعوبهم المسلمين بالارهابيين \n",
            "\n",
            "قرف شلون يحط أيده على أرضيت الحمام 💔😩 \n",
            "\n",
            "هبه مو اسرائيل جريئة لا حبيبي بس العراقيين عملاء \n",
            "\n",
            "1:57 الله يقطع إبليسك يشيخ 😂😂😂💔💔💔💔 \n",
            "\n",
            "لبنان بلد لللبنانيين، الجنسيات الاخرى يجب ان تعود الى بلدانها والا لم يعد لبنان لاهله. المساعدة التي يقدمها لبنان للاخرين يجب ان يشكر عليها. يمكن للبلدان ان تساعد وتدعم بعضها ولكن لا يجب تغيير كيانها عنوةً والا سوف تفقد فلسطين وسوريا ايضاً اهلها وكيانها. \n",
            "\n",
            "لا يسعني سوى التأمل ....... حقا فاق شعرك مستوى الابداع اللغوي و التناغم الفكري الادبي. روعة تناسق الكلمات في مادتك النثرية هته و مدى دلالتها تبقى راسخة في الاذهان ابد الآبدين ..... فصاحة لغوية مبهرة ...... كلمات تتخللها بساطة محيرة للعقل مربكة للروح .... نص غزلي متقن حد السيف ..... اي نعم سيدي .... والله إنك لمتمكن من لغة الضاد ...... و عارف بخبايا العشق .. ولك في وصف الاحوال و الاهوال الف قيراط ..... و لتعجز الكلمات عن وصف ما جدت به و ما جاز ...... و ليتخدر اللسان عن نطق كلمة شكر في حقك ...... لك مني الف تحية عابرة للبحار ....... و الف شكر و لك كل الوقار .... ;) (Y). مجرد رأي .... شكرا. \n",
            "\n",
            "ههههههههههههههههههههههههههههه يي كلهم زنوات وعيال حرام ولازم نحمي الاسلام ونكون يد واحدة فلا الاول طيب ولا الي بعدة كلهم من طينه واحدة طينه الحقد والكرة للاسلام فلازم نكون يد واحدة جميع المسلمين بكل انحاء ادول العربية بعدين ما يدخل البيت الابيض الا كلب ومجرم هذة عوايدهم من زمان \n",
            "\n",
            "@User.IDX مره تقولون تذويب الجثه. ومره تقولون تم تقطيعها. والان حرقها. الحلقه القادمة ماذا سيكون السيناريو ! \n",
            "\n",
            "اتفشخت ضحك لما جبت صورة عمرو واكد وقولت بيبوس الاجانب هههه فعلا عمرو واكد باس سكارليت جوهانسون في فيلم لوسي \n",
            "\n",
            "لو ما تحتاج المال عطني ياه \n",
            "\n",
            "انهيار اقتصاد فنزويلا دليل على أن الثروات الطبيعية وحدها لا تصنع اقتصاد قوي متين ومتماسك بل يجب أن تكون إدارة الموارد على أعلى مستوى.بالنظر إلى فنزويلا النفطية تعتبر دول الخليج وعلى رأسها السعودية لديها إدارة جيدة للموارد الطبيعية ولكن بحاجة للتطوير أكثر وهذا ماتسير عليه السعودية الآن في رؤيتها 2030.السعودية في فترات سابقة كانت تعتمد للحفاظ على عدم تأثر اقتصادها بالاحتفاظ بالعملات الصعبة وحمل السندات الأمريكية وطبعاً أول دولة هي الصين والثانية اليابان صحيح فوائدها قليلة لكنه استثمار آمن. رؤية السعودية تنطق بمبدأ رفع المحتوى المحلي كخطوة أولية لجلب صناعات متطورة في كافة المجالات ومن أهمها التقنية والذكاء الاصطناعي. \n",
            "\n",
            "طيب نبغا محتواك انت اكثر ونبغا تسوي دورات تدريبة في المجالات الي تهمك \n",
            "\n",
            "@User.IDX لعبه الببجي أصبحت ظاهرة اجتماعية ، ولابد من الوقوف أمام هذه الظاهرة . \n",
            "\n",
            "@User.IDX والله أرى انها قامت بالواجب، لأن الإنسان في بلادها له قيمة ويعامل بكرامة، ما رأيناه منها لن تره في حاكم عربي وهذا يكفيني \n",
            "\n",
            "للأسف وكأنك تتكلم عن الاردن اغلب المؤسسات الحكومية بيعت وتخصخصت \n",
            "\n",
            "@User.IDX بعد هالتصريح لم يعد من المرشحين المحتملين🙂 \n",
            "\n",
            "الحمدلله على الصحه الحمدلله الذي عافانا مما ابتلاهم وفضلنا على العالمين تفضيلا \n",
            "\n",
            "عمر حسين+شوية فلوس= فلوس كثير \n",
            "\n",
            "@User.IDX نتنياااهووو ،، قطر تدعمناا كثيراً !! 😂😂😂😀 <url> \n",
            "\n",
            "Shakooh Heasat هاي زي حالة مسلسل سارة يلي حكتلك عنها مرة \n",
            "\n",
            "@User.IDX هذه هي التربية الحسنة في الدفاع عن الطلبة بدل التغاضي عن التنمر، بارك ﷲ فيها وفي كل من تعامل مع المتنمرين بأسلوب حسن \n",
            "\n",
            "الي من اليمن يصف جنبي 😁🖐🏻🤓 \n",
            "\n",
            "وين الفتاة اليابانية اشتقتلها ♡♡ \n",
            "\n",
            "آلمني #أردوغان حين قال: يقصفون العاصمة بطائرات F16؟!! هذه الطائرات لمن اشتريناها؟!! هل لنقصف بها شعبنا!!! سنحاسب الانقلابيين على هذه الجريمة! ألا لعنة الله على بشار وامه وابيه وفصيلته التي تؤيه، لعنة لا تحول ولا تزول... فرق كبير بين رئيس يواجه شعبو بالجيش ورئيس يواجه الجيش بشعبوو.. يا الله... بسم الله... الله أكبر.. #فشل_الانقلاب \n",
            "\n",
            "@User.IDX و ماذا عن الليرة التركية كم كانت تساوي قبل تولي اردوغان الحكم وكم تساوي الان ؟؟ \n",
            "\n",
            "رائع.. ترى ما مدى إمكانية أن يصاب الوعي الجمعي بالمرض؟ لأنني أظن أن بعض الشعوب العربية لا سيما المستعبدة منها تبرر استعبادها بالصمود في مواجهة قوى غريبة و تصر على أنها محقة وتخون كل من ينحاز إلى وجهة نظر أخرى.. لن أخوض في السياسة أكثر ولكن جدير بالذكر موقف بعض القيادات السياسية في العالم العربي التي ترى أن قسما من شعبها مرتهن للخارج وهي غارقة حتى النخاع في الارتهان ولكن إلى معسكرات أخرى \n",
            "\n",
            "\"@User.IDX فتولايز🍢 ☑ يقوي عملية الانتصاب ☑ يعالج سرعة القذف ☑ يزيد كمية السائل المنوي ☑ تحسين صحة البروستاتا ملاحظة :لتوصيل للبيت🚛 الدفع بعد الاستلام للطلب عبر الواتساب ⭕️⭕️ مع الاخصائية العنود :: \"\" \"\" \"\" <url> \"\" \"\" R2wY \"\n",
            "\n",
            "@User.IDX ركوب الطائرة فى حد ذاته مرعب😱😱 الحمد لله انهم بخير❤❤ \n",
            "\n",
            "اهم شي فاصل كتكوت 😊 \n",
            "\n",
            "@User.IDX خلوا شريفه تنفعكم و الا العلج التركي \n",
            "\n",
            "@User.IDX لا نقول الا ما يرضي الله الله يرحمه ويسامحه بحاسبو رب العزة اما الاخوة المغردين ما هذه الالفاظ الخادشة ربي يهديكم \n",
            "\n",
            "@User.IDX إنني أُحبّكِ.. هذه هي المهنةُ الوحيدة التي أتقنُها.. ويحسدني عليها أصدقائي.. وأعدائي.. .. \\ #نزار_قباني -------- \n",
            "\n",
            "تداولت مواقع التواصل الإجتماعي هذه الصورة بكثافة وأثارت جدلا كبيرا ولكن خفي على الكثير أن يرى هذه الواقعة من زاوية أخرى وهي أنها مسرحية مفبركة يراد منها إخافة المحجبات من ارتداء الحجاب على الشطوط الفرنسية أو بالأحرى طردهم من الشواطئ الفرنسية بطريقة مهينة وغير مباشرة وما دفعني على هذا الإعتقاد هو خمسة ملاحظات؛ الملاحظة الأولى: وجود هذه المحجبة بمفردها وسط كل هذا العري مما يعطي انطباع النشاز لهذه المحجبة الملاحظة الثانية: لاحظوا جيدا الفراغ المحيط بالمحجبة والذي كان معدا مسبقا لتواجد الأمنيين فيه الملاحظة الثالثة: قبل مجيء الأمنيين لاحظوا الطريقة الغريبة التي تستلقي فيها هذه المحجبة على الشاطئ وكأنها في فراشها تستعد للنوم لا مستلقية على الشاطئ وهو ما يجعلها موضع سخرية الملاحظة الرابعة: وجود هذه المحجبة في مكان كله عري وأيضا بمفردها ونحن نعلم جيدا أن المسلمون يذهبون عادة إلى الشاطئ في مجموعات عائلية ولا يذهبون فرادى ونادرا جدا ما تذهب المحجبة (أو غير المحجبة) بمفردها إلى الشاطئ الملاحظة الخامسة: وهي الأهم وهي التي فضحت مسرحية الفرنسيين القذرة هي سهولة نزع الحجاب لهذه الفتات فبمجرد أن طلب منها أعوان الأمن نزع الحجاب سارعت إلى نزعه غير مكترثة ونحن نعلم جيدا تمسك المحجبة بحجابها وحتى وإن أرادت نزعه فإنها لا تزعه أمام الناس وأمام كامرات الهواتف الجوالة والتصرف الطبيعي هو مغادرة الشاطئ وعدم نزع الحجاب. الإستنتاج : إنها الحرب على الإسلام \n",
            "\n",
            "ولله نفسي تنورنا وتزورنا في ليبيا بس المشكلة الاوضاع حرب في ليبيا واذا جيت راح تقيم معي في البيت \n",
            "\n",
            "والله زكريات عمر حسين وعلي االطاير وايش ايلي ما تتنسى \n",
            "\n",
            "@User.IDX تعامل الحكومة مع الحدث رائع جداً👍 \n",
            "\n",
            "@User.IDX #روسيا لم تشهد هذه الحوادث بمطاراتها وهي بلاد الثلج فكيف بلبنان مستحيل تتكون كتله ثلجيه بالغيمه بهذه الحجم اقصى تكون ثلجي يسمى بالبرد شكل كور صغيرة احتمال كبير مرتطم بعمود انارة بالمطار او بمبنئ عند الدوران بالمدرج \n",
            "\n",
            "انتم نسيتو ملك السعودية لي قالهم دائم النعمة و الاستخراء هههههه \n",
            "\n",
            "حضرت عرض ازياء عربي لندني!! | مذكرات عمر حسين 45 \n",
            "\n",
            "هههههه احلى شي بالسليط الاخباري انه يتمسخر على الأخبار ههههههه😅😆😹😹🇯🇴🇯🇴🇯🇴 \n",
            "\n",
            "\"\"\" إن كنت عربى ومسلم بحق ساهم فى النشر \"\" هيلين توماس….. المرآة التي فضحت الولايات المتحدة الأمريكية المرآة التي فضحت الولايات المتحدة الأمريكية والكلام الممنوع من النشر حتى ماتت وتركت كلمة ” المنطقة العربية ستزول بالكامل \"\" المرأة التي فضحت أميركا، وعلاقتها بداعش في يوليو الماضي احتفل نادي الصحافة الأمريكي القومي بالذكرى الثانية لرحيل عميدة مراسلي البيت الأبيض، وأول امرأة تتولى منصب رئيس نادي الصحافة الأمريكي، والتي عاصرت أهم رؤساء أمريكا، ورافقتهم وغطت أنشطتهم، وكانت مع نيكسون في أول رحلة تاريخية للصين، عام 1971، والتي رفضت أن ترافق جورج بوش الابن، وأعلنت رفضها لعبارته الشهيرة: ” إنه يحارب في العراق من أجل الله والصليب ” وقالت: ” بل إنها حرب الشيطان وليست حرب الله “. هي هيلين توماس، التي ماتت في الخامسة والتسعين، وكانت كما قال تلاميذها في حفل تأبينها: ” أجرأ صحفية في تاريخ الولايات المتحدة الامريكية “. توماس قبل رحيلها بعدة أيام، كتبت مقالة خطيرة للنشر في كبريات الصحف الأمريكية، وتم رفضها في حادثة لها للمرة الأولى، مما جعلها تصرخ في محاضرة بنادي الصحافة قائلة: ” اليهود يسيطرون على إعلامنا وصحافتنا ويسيطرون على البيت الابيض “. وأضافت، أنا لن أغير ما حييت، مؤمنة به؛ الإسرائيليون يحتلون فلسطين، هذه ليست بلادهم. قولوا لهم ارجعوا لبلادكم واتركوا فلسطين لأهلها. إنني أرى بوادر حرب عالمية ثالثة، طبخت في مطبخ تل أبيب ووكالة الاستخبارات الأمريكية، والشواهد عديدة، أول خطوة ظهور تنظيم داعش ، بدعم أمريكي لا تصدقوا أن واشنطن تحارب الإرهابيين وما يسمون أنفسهم بالجهاديين، لأنهم دمية في أيدي السي اي ايه. وأضافت، إنني أرى أن بريطانيا سوف تستحضر روح البريطاني ” مارك سايكس ” وفرنسا سوف تستحضر روح الفرنسي ” فرانسوا بيكو ” وواشنطن تمهد بأفكارهما الأرض لتقسيم الدول العربية بين الثلاثة، وتأتي روسيا لتحصل على ما تبقى منه الثلاثة، صدقوني انهم يكذبون عليكم ويقولون: ” إنهم يحاربون الاٍرهاب نيابة عن العالم وهم صناع هذا الاٍرهاب والإعلام يسوق أكاذيبهم، لأن من يمتلكه هم يهود اسرائيل”. هذه كلمات هيلين توماس منذ عامين وأعيد نشرها في ذكراها، يوليو الماضي، بالطبع قوبلت بعاصفة هجوم عاتية من اللوبي الصهيوني وطالب نتنياهو بمحاكمتها بتهمة معاداة السامية لكنها رحلت بعد أن قالت الصدق وتلقف كلماتها المخرج العالمي ” مايكل مور ” في فيلم تسجيلي. ومور هو من فضح بوش الابن وعصابته من أصحاب شركات السلاح من اليمين الأمريكي مثل ” ديك تشيني ” و ” كوندليزا رايس ” وحصل فيلمه الشهير فهرنهايت 11/9 على أكثر من جائزة. ما يهمنا وسط الأحداث الاخيرة، بداية من حادث سقوط الطائرة الروسية التي راح ضحيتها أكثر من مائتي مدني، ثم حادث بيروت الذي خلف عشرات القتلى والجرحى ثم حادث باريس، مرورا بحوادث في العريش، والعراق، وليبيا، وسوريا، أنّ داعش لا يمكن لها أن تقوم بكل هذا العنف البشع بمفردها، وأن هناك أجهزة استخبارات تدعمها، وتشيطنها لتشعل المنطقة وتدفعها لأتون جحيم لا ينطفئ، فتراهم على حافة الفناء. والفناء هنا يعني تسليم المنطقة للقوى التي خططت، ودعمت، وأشعلت لإزالة القائم وزحزحة المستقر وإزالة المعترف به. وما يُؤكد هذا، كلام ” جيمس وولسي ” رئيس الاستخبارات الأمريكية السابق الذي قال بوضوح: ” المنطقة العربية لن تعود كما كانت، وسوف تزول دول وتتغير حدود دول موجودة “. نفس المعنى تقريبا قاله ” مارك رجيف ” المتحدث باسم الحكومة الإسرائيلية: ” المنطقة على صفيح ساخن، ونحن لن نسكت، وننسق مع أجهزة الاستخبارات في الدول الكبرى للقضاء على الاٍرهاب، وسوف نتدخل معهم لمحاربة الاٍرهاب حتى لو اندلعت الحروب، لنضمن حماية دولتنا “. إذن تتحقق نبوءة ” هيلين توماس ” تل أبيب وواشنطن خلقت أسطورة التنظيمات الإرهابية في المنطقة و داعش التي خرجت من معامل تل أبيب وواشنطن لتشعل المنطقة والعالم، وتحرك الأنظمة نحو هدف واحد، وإعادة الترسيم وتوزيع النفوذ والغنائم، فماذا انتم فاعلون يا عرب ؟ أعيدوا قراءة مقالات ومحاضرات ” هيلين توماس ” التي اقتبس منها مقولة ” الغرب يعيش على غباء العالم الثالث والدول الفقيرة . هل يصلح هذا الحل، في وقتنا مع كل المتغيرات الدراماتيكية؟ نعم فقط جربوا أن تتوحدوا وتكونوا على قلب رجل واحد. إنه حلم، لكنه ليس مستحيلا. \"\n",
            "\n",
            "@User.IDX نحن ليس كا بقيت بني عرين وليس العرب العرب اشرف الناس. الجزائر عربية مسلمة بي معن الكلمة \n",
            "\n",
            "@User.IDX تبقى فلسطين فلسطين وتبقى القدس عاصمتها . ❤❤❤💎💎💎 \n",
            "\n",
            "Youssra Asكو كنتي فرخ كنتي غاتكوني فحال هاكا 😂😂😂😂😂 كاطيري بلا ريش هههههههههه \n",
            "\n",
            "@User.IDX قصدك ... قتلتم 900000 من النساء والاطفال . !!! \n",
            "\n",
            "سابقاً في تكي وش السالفة ههههه \n",
            "\n",
            "@User.IDX كل شي مقلق لولا لطف الله \n",
            "\n",
            "والله ايران بريئه يابشر ياصاحب القناه كوني حيادين \n",
            "\n",
            "يا عمري ما احلاكي هاي دموع النصر برافو ع اهلك اللي علموكي عادة القراءة بتستاهلي اكتر برافو ع كل اهل بيربو اولادن ع العلم والمعرفة والثقة بالنفس \n",
            "\n",
            "عاوزين حلقه عن مثلث براموداااااموضوع مهم وفيه حجات محدش يعرفها ياريت تعمل حلقه \n",
            "\n",
            "@User.IDX قطر لم تعد خليجيه يجب ان تتحرك الجيوش الخليجيه وتعيدها للحضن العربي وياحبذا لو يتم تحويلها الى جزيره ترفيهيه للخليج واهله \n",
            "\n",
            "ههههههههه والله من جد مو بوكيمون قو حلقة الصيدليه دي 😂😂😂😂😂😂 \n",
            "\n",
            "ماشالله مبدع وموووهوب وتشرح بطريقة حلوة لوجانت مدرستي تشرخلي المادة بنفس الطريقة جان طلعت الاولى عالوطن العربي ههههههه بس عفية يا دحيح دحدووح احجي اشوية ابطئ لان ما دا الحك عليك .دايما مبدعين اولاد النيلاختكم من العراااق \n",
            "\n",
            "\"بشار الأسد مو الوحيد اللي يكذب و يصدك كذبه انما الرؤساء العرب بالاجمال...بالبدايه ليس هناك شيء و تتطور الى تدخل عسكري بحجة \"\"كانوا على وشك اعلان اماره اسلاميه\"\" الى تدخل اقليمي بحجة مواجهة الارهاب الخ الخ الخ. \"\n",
            "\n",
            "ليه بدر في كل حوار ينسحب عليه؟ \n",
            "\n",
            "\"كل هذا يعني انو احتمال كبير انو اعضاء الجسم تسترجع نشاطتها الطبيعية و انو داخل القبر في احتمال كبير انو \"\"الاموات \"\" يصيرو أحياء و هذا تماما ما جاء عن رسول الله ان الميت ترجع له روحه حتى يسئل سبحان الله و صدق رسوله ،اما عن الموت حقا فما نعلم إلا أن هناك روح لكن لا نعلم كيف تحدد انها خرجت او لا ،كما في القرآن الكريم : (و يسئلونك عن الروح ،قل الروح من أمر ربي و ما أوتيتم من العلم إلا قليلا,) نسئل الله الثبات و أن يحسن خواتمنا و يختم لنا بالحسنى و زيادة \"\n",
            "\n",
            "بصراحه برنامج قوي وصريح جدآ وانا من اشد متابعين هذا البرنامج الله يحميك نيكولاس \n",
            "\n",
            "و اخيراً مقطع صوتي. 🔘____________🔈 1:00 \n",
            "\n",
            "@User.IDX عٍجُيِبُ وَنًحًنًوَآٍ مٌآٍذٍآٍ نًفُعٍلّ نًتٍنًآٍحًرٍ وَنًتٍقٍآٍتٍلّ بُعٍضَنًآٍ آٍلّبُعٍضَ وَنًتٍرٍگٍ وَجُبُنًآٍ \n",
            "\n",
            "@User.IDX اللهم أهلك بني صهيون الانجاس الملعونين الظالمين المعتدين المجرمين. اللهم نصرك لأهلنا في فلسطين. \n",
            "\n",
            "@User.IDX يا اولاد الافاعي يا انجاس قطر من احضرت الارهابيين الي ليبيا وموتوا بغيظكم لقد انتصر الجيش الوطني الليبي والمصريين جميعا يهنئون الشعب الليبي عاشت الايادي ويسلم المشير خليفه حفتر \n",
            "\n",
            "@User.IDX صوت ضراط في فلاة .. حسبه الارعن انفجاراً .. هذا الذي كان وحدث !! \n",
            "\n",
            "روعة وجمال وابداع ما شاء الله \n",
            "\n",
            "واخيرا شركه بي ام دبليو عرفت حجمها وكامت تصنع قنادر بس اخاف هذا هم يحمى 🐸🚬 \n",
            "\n",
            "@User.IDX الكلب هذا قاعد يستفزنا بشكل قذر وين الكلاب اللي تطبل لترامب وكوشنر.. الإسلام بالنسبة لترامب وكلبه كوشنر.. ارهاب ودماء المسلمين رخيصة.. واللي رخصها حكام العرب قهر وقسم \n",
            "\n",
            "@User.IDX لأنه مشروع قطري إيراني تركي \n",
            "\n",
            "قلة التربية في المغرب وتبرير المغتصب عندنا لكن قانون والله عندنا بالمغرب عامين الى 5 سنين فقط لكن دايما سنتين مع ايقاف تنفيد فقط سجن ويخرج ببركة سيدنا براءة \n",
            "\n",
            "@User.IDX قناة الجزيره الخنزيره ..عندما تتحدثوا عن مصر أم الدنيا يجب عليكم الوقوف انتباه وتعظيم سلاح..مصر ستحاصر كل عناصر الإخوان ويا خسارة فلوسك يابن موزه اللي صرفتها علي المسلحين في ليبيا وفي السودان وفي ...... نذكركم يا مرتزقه أن مصر العظيمه لها القياد\n",
            "\n",
            "@User.IDX الأب يهاجم الاسلام والمسلمين حكام العرب ... الله ينتقم منهم \n",
            "\n",
            "نايم بالكوتشى بتاكل التفاحه ب الاستيكر ايه ده ,, تفاحه حمرا مش خضرا !!! اوعى تكون ارتبطت ي غندور , قسم العلوم بتاعنا مش عايزينه يتضرب والنبى :D :D \n",
            "\n",
            "السيد عمر .. لانك متعلم ومثقف سوف تضع بصمتك مستقلاً .. اعرف اسمك من زمان وتابعتك من رمضان فقط تستحق المتابعه 🌹 اتمنى لك التوفيق \n",
            "\n",
            "@User.IDX والحـر لا يـنـسى الجـمــــيل وردِّه ولَـإنْ نـسى فـلـقــد أسـاء إلى الأدب يالائـمي حـب الحـسين أجــــــنـنا واجــتاح أوديــة الضـــمائر واشرأبّْ \n",
            "\n",
            "انا برضة من ساعة ماشفت فيديوهاتة . كلها شتيمة فى الاسلام . اييه يابا . مفيش فيديو تقول فيه عن جمال الدين المسيحى ولا ايه اللى شدك فيهانا كنت برد عليه فى الفيديوهات و رد عليا مرة واحدة . حسيت انه مشتت . بيتكلم من غير مايبلع ريقة كدهعموما شكرا أ احمد على وقتك و عارفين انك اتفرهدت فى تجهيز الفيديو . بس كله بثوابة عند ربنا و يمكن تكون سبب اسلام فرد او تثبيتة جزاء الله خيرا :) \n",
            "\n",
            "@User.IDX اكيد قده وقت خريفهم وربيعهم وصيفهم ضروري يتحرروا من الامن والامان والنفط وجميع الخيرات والجزيره تحجزلهم ساعه اخباريه صباحاومساء \n",
            "\n",
            "@User.IDX سبحان الله ، الله لا يعجزه شيء و مافي شيء مستحيل على هذه الارض. \n",
            "\n",
            "@User.IDX الكوميدي كلوب لو يلغونه مرا وحدة احسن لهم، لانه نادي جداااا تاافه وسامج، ولايمد بالكوميديا اي صلة \n",
            "\n",
            "@User.IDX هههههههههه. من.افضل الجيوش يستهزء بها.كارثة \n",
            "\n",
            "Aiysha Waleed Ahlam Atif تعو خدو كبشة امل وطاقة ايجابية 😍 والله لا يفرقنا عن بعض❤ \n",
            "\n",
            "@User.IDX كلمه وحده وكلمتين حلوه يبلدي \n"
          ]
        }
      ],
      "source": [
        "for _ in df.Comment[100:200]:\n",
        "    print()\n",
        "    print(_)"
      ]
    },
    {
      "cell_type": "markdown",
      "source": [
        "**النصوص بلا شك تحتاج لتنظيف هنالك الكثير من الارقام واسماء الحاسابات المكتوبة باللغة الانجليزية والكثير من الايموجي والنقاط التي سنقوم بحذفها جميعا**"
      ],
      "metadata": {
        "id": "Md4DSLFGbUE7"
      },
      "id": "Md4DSLFGbUE7"
    },
    {
      "cell_type": "markdown",
      "source": [
        "## Cleaning and preprocessing the dataset"
      ],
      "metadata": {
        "id": "NeuOIMDWOoAb"
      },
      "id": "NeuOIMDWOoAb"
    },
    {
      "cell_type": "markdown",
      "source": [
        "**هنا سأقوم بتغيير اسماء الاعمدة**"
      ],
      "metadata": {
        "id": "2G_08vhBobXr"
      },
      "id": "2G_08vhBobXr"
    },
    {
      "cell_type": "code",
      "execution_count": 12,
      "id": "6Lc2GcsnCs0M",
      "metadata": {
        "id": "6Lc2GcsnCs0M"
      },
      "outputs": [],
      "source": [
        "df = df.rename(columns={'Majority_Label': 'labels', 'Comment': 'text'})"
      ]
    },
    {
      "cell_type": "markdown",
      "source": [
        "**To clean the arabic text I will do the fellowing:** **لتنظيف النصوص العربية، سأقوم بالخطوات التالية**\n",
        "\n",
        "1. Removing non-Arabic characters:\n",
        "إزالة الأحرف غير العربية\n",
        "   - `re.sub(r'[^\\u0600-\\u06FF\\s]', ' ', text)`:\n",
        "   \n",
        "    This line uses regular expressions to replace any characters that are not Arabic letters or spaces with a space.\n",
        "\n",
        "    هذا السطر يستخدم التعبيرات النمطية لاستبدال أي أحرف غير الحروف العربية أو المسافات بمسافة.\n",
        "\n",
        "\n",
        "2. Converting to lowercase:تحويل النص إلى أحرف صغيرة\n",
        "   - `p_text=p_text.lower()`: This line converts the text to lowercase.\n",
        "   هذا السطر يحول النص إلى أحرف صغيرة\n",
        "\n",
        "\n",
        "\n",
        "3. Tokenization: تجزئة النص إلى كلمات\n",
        "    - `p_text=p_text.split()`: This line splits the text into a list of words.\n",
        "\n",
        "    هذا السطر يقسم النص إلى قائمة من الكلمات.\n",
        "\n",
        "\n",
        "4. Removing stop words: إزالة كلمات التوقف\n",
        "   - `[port_stem.stem(word)for word in p_text if not word in stopwords.words('arabic')]`: This line iterates over the words in the text and removes any stop words (common words that don't carry much meaning). It uses the `stopwords.words('arabic')` function from the NLTK library to get a list of Arabic stop words.\n",
        "\n",
        "      هذا السطر يقوم بحذف الكلمات التي تتكرر في النصوص وليس لها معنى مثل من،في،نحن\n",
        "\n",
        "\n",
        "5. Stemming:\n",
        "    - `port_stem.stem(word)`: This line uses the Porter stemmer to reduce words to their root form. This helps in grouping similar words together.\n",
        "\n",
        "    هذه السطر يستخدم خوارزمية جذر او أساسها الكلمات لتحويل الكلمات إلى جذرها\n",
        "\n",
        "\n",
        "6. Joining the words back into a string: إعادة ربط الكلمات في نص واحد  \n",
        "    - `p_text=' '.join(p_text)`: This line joins the processed words back into a single string.\n",
        "\n",
        "    هذه السطر يعيد ربط الكلمات المعالجة في نص واحد.\n",
        "  "
      ],
      "metadata": {
        "id": "RFXmuGOkRAp_"
      },
      "id": "RFXmuGOkRAp_"
    },
    {
      "cell_type": "markdown",
      "source": [
        "**سأقوم بقوم بإنشاء كائن من Porter Stemmer، وهي خوارزمية تستخدم لتقليص الكلمات إلى جذورها أو أساسها.**"
      ],
      "metadata": {
        "id": "AO2YbCj-fvlf"
      },
      "id": "AO2YbCj-fvlf"
    },
    {
      "cell_type": "code",
      "execution_count": 13,
      "id": "jqflZfU0ZJ5v",
      "metadata": {
        "id": "jqflZfU0ZJ5v"
      },
      "outputs": [],
      "source": [
        "port_stem=PorterStemmer()"
      ]
    },
    {
      "cell_type": "markdown",
      "source": [
        "**هنا قمت بعمل دالة والتي حين استدعئها ستقوم بجميع خطوات التنظيف المذكورة أعلاه**"
      ],
      "metadata": {
        "id": "2hiUa0bQf_lN"
      },
      "id": "2hiUa0bQf_lN"
    },
    {
      "cell_type": "code",
      "execution_count": 14,
      "id": "Q50UK0S7X5z7",
      "metadata": {
        "id": "Q50UK0S7X5z7"
      },
      "outputs": [],
      "source": [
        "def processing(text):\n",
        "    p_text=re.sub(r'[^\\u0600-\\u06FF\\s]', ' ', text)\n",
        "    p_text=p_text.lower()\n",
        "    p_text=p_text.split()\n",
        "    p_text=[port_stem.stem(word)for word in p_text if not word in stopwords.words('arabic')]\n",
        "    p_text=' '.join(p_text)\n",
        "    return p_text"
      ]
    },
    {
      "cell_type": "markdown",
      "source": [
        "**لتأكد من عمل الدالة سأقوم بتطبيقها على اول صف**"
      ],
      "metadata": {
        "id": "r6oLJR_jgSzE"
      },
      "id": "r6oLJR_jgSzE"
    },
    {
      "cell_type": "code",
      "execution_count": 15,
      "id": "44J-63aBX53a",
      "metadata": {
        "colab": {
          "base_uri": "https://localhost:8080/",
          "height": 35
        },
        "id": "44J-63aBX53a",
        "outputId": "6958f033-1e87-41ba-e2f7-1e9182e83828"
      },
      "outputs": [
        {
          "output_type": "execute_result",
          "data": {
            "text/plain": [
              "'فترة الصغر والمراهقة يكون الصعب تقبل تعليقات الأصدقاء حول شعرك المجعد وهنا يأتي دور الوالدين ادخال الثقة الى نفسية طفلهما تقدم بالسن يصبح الأمر عاديا اتكلم تجربتي شخصية'"
            ],
            "application/vnd.google.colaboratory.intrinsic+json": {
              "type": "string"
            }
          },
          "metadata": {},
          "execution_count": 15
        }
      ],
      "source": [
        "processing(df['text'][0])"
      ]
    },
    {
      "cell_type": "markdown",
      "source": [
        "**لقد قمت بعمل جيد النص نظيف تماما**"
      ],
      "metadata": {
        "id": "ZIlRg3Ovgm7Q"
      },
      "id": "ZIlRg3Ovgm7Q"
    },
    {
      "cell_type": "markdown",
      "source": [
        "**هنا قمت بتحويل النص الى نوع String**"
      ],
      "metadata": {
        "id": "nzXTUUzUgywE"
      },
      "id": "nzXTUUzUgywE"
    },
    {
      "cell_type": "code",
      "execution_count": 16,
      "id": "V4cRs_evZVOD",
      "metadata": {
        "id": "V4cRs_evZVOD"
      },
      "outputs": [],
      "source": [
        "df['text'] = df['text'].astype(str)"
      ]
    },
    {
      "cell_type": "markdown",
      "source": [
        "**هنا قمت بتطبيق الدالة على جميع النصوص**"
      ],
      "metadata": {
        "id": "MZbDHXSSisMv"
      },
      "id": "MZbDHXSSisMv"
    },
    {
      "cell_type": "code",
      "execution_count": 17,
      "id": "dJX7xnFGZ9Vi",
      "metadata": {
        "id": "dJX7xnFGZ9Vi"
      },
      "outputs": [],
      "source": [
        "df['text']=df['text'].apply(processing)"
      ]
    },
    {
      "cell_type": "code",
      "execution_count": 18,
      "id": "1UfCxzBlaY_J",
      "metadata": {
        "colab": {
          "base_uri": "https://localhost:8080/"
        },
        "id": "1UfCxzBlaY_J",
        "outputId": "9ae66f0a-be67-4653-aeea-cd229d084799"
      },
      "outputs": [
        {
          "output_type": "stream",
          "name": "stdout",
          "text": [
            "0       فترة الصغر والمراهقة يكون الصعب تقبل تعليقات ا...\n",
            "1       ردا معظم الردود أحب اوضحلكم ان عمليات زرع الكل...\n",
            "2       يجب ان تذكروا ان لكل سنة ثيم للحفل نوع الحفلات...\n",
            "3       بتعمل حلقة صغيرة عشان عندي امتحان بكرة ومتضيعل...\n",
            "4                       طاري السطحيه مدري ليه تذكرت فيحان\n",
            "                              ...                        \n",
            "3995    والله اعرف ابكي حالنا وصلنا ليه ام ابكي المواه...\n",
            "3996    انا الحين ملخبط كلها البطاقه الائتمانية الحلال...\n",
            "3997    متأكد ستيفن هوكينج مسلما وثبتت تجاربه نظرياته ...\n",
            "3998    فكرة الدين حكم الاراهبين يطبق عليهم حكم الخوار...\n",
            "3999    انااااا اللي استفدتو موت حمزه انة ساعات انت تح...\n",
            "Name: text, Length: 4000, dtype: object\n"
          ]
        }
      ],
      "source": [
        "print(df['text'])"
      ]
    },
    {
      "cell_type": "code",
      "execution_count": 19,
      "id": "1QcLZInxfQ5f",
      "metadata": {
        "colab": {
          "base_uri": "https://localhost:8080/",
          "height": 206
        },
        "id": "1QcLZInxfQ5f",
        "outputId": "c3184d3b-fe9c-49e3-aebe-7e06f9a874d3"
      },
      "outputs": [
        {
          "output_type": "execute_result",
          "data": {
            "text/plain": [
              "                                                text  labels\n",
              "0  فترة الصغر والمراهقة يكون الصعب تقبل تعليقات ا...       0\n",
              "1  ردا معظم الردود أحب اوضحلكم ان عمليات زرع الكل...       0\n",
              "2  يجب ان تذكروا ان لكل سنة ثيم للحفل نوع الحفلات...       0\n",
              "3  بتعمل حلقة صغيرة عشان عندي امتحان بكرة ومتضيعل...       0\n",
              "4                  طاري السطحيه مدري ليه تذكرت فيحان       0"
            ],
            "text/html": [
              "\n",
              "  <div id=\"df-9d516a64-ca98-4ada-8b62-d024f90f2c32\" class=\"colab-df-container\">\n",
              "    <div>\n",
              "<style scoped>\n",
              "    .dataframe tbody tr th:only-of-type {\n",
              "        vertical-align: middle;\n",
              "    }\n",
              "\n",
              "    .dataframe tbody tr th {\n",
              "        vertical-align: top;\n",
              "    }\n",
              "\n",
              "    .dataframe thead th {\n",
              "        text-align: right;\n",
              "    }\n",
              "</style>\n",
              "<table border=\"1\" class=\"dataframe\">\n",
              "  <thead>\n",
              "    <tr style=\"text-align: right;\">\n",
              "      <th></th>\n",
              "      <th>text</th>\n",
              "      <th>labels</th>\n",
              "    </tr>\n",
              "  </thead>\n",
              "  <tbody>\n",
              "    <tr>\n",
              "      <th>0</th>\n",
              "      <td>فترة الصغر والمراهقة يكون الصعب تقبل تعليقات ا...</td>\n",
              "      <td>0</td>\n",
              "    </tr>\n",
              "    <tr>\n",
              "      <th>1</th>\n",
              "      <td>ردا معظم الردود أحب اوضحلكم ان عمليات زرع الكل...</td>\n",
              "      <td>0</td>\n",
              "    </tr>\n",
              "    <tr>\n",
              "      <th>2</th>\n",
              "      <td>يجب ان تذكروا ان لكل سنة ثيم للحفل نوع الحفلات...</td>\n",
              "      <td>0</td>\n",
              "    </tr>\n",
              "    <tr>\n",
              "      <th>3</th>\n",
              "      <td>بتعمل حلقة صغيرة عشان عندي امتحان بكرة ومتضيعل...</td>\n",
              "      <td>0</td>\n",
              "    </tr>\n",
              "    <tr>\n",
              "      <th>4</th>\n",
              "      <td>طاري السطحيه مدري ليه تذكرت فيحان</td>\n",
              "      <td>0</td>\n",
              "    </tr>\n",
              "  </tbody>\n",
              "</table>\n",
              "</div>\n",
              "    <div class=\"colab-df-buttons\">\n",
              "\n",
              "  <div class=\"colab-df-container\">\n",
              "    <button class=\"colab-df-convert\" onclick=\"convertToInteractive('df-9d516a64-ca98-4ada-8b62-d024f90f2c32')\"\n",
              "            title=\"Convert this dataframe to an interactive table.\"\n",
              "            style=\"display:none;\">\n",
              "\n",
              "  <svg xmlns=\"http://www.w3.org/2000/svg\" height=\"24px\" viewBox=\"0 -960 960 960\">\n",
              "    <path d=\"M120-120v-720h720v720H120Zm60-500h600v-160H180v160Zm220 220h160v-160H400v160Zm0 220h160v-160H400v160ZM180-400h160v-160H180v160Zm440 0h160v-160H620v160ZM180-180h160v-160H180v160Zm440 0h160v-160H620v160Z\"/>\n",
              "  </svg>\n",
              "    </button>\n",
              "\n",
              "  <style>\n",
              "    .colab-df-container {\n",
              "      display:flex;\n",
              "      gap: 12px;\n",
              "    }\n",
              "\n",
              "    .colab-df-convert {\n",
              "      background-color: #E8F0FE;\n",
              "      border: none;\n",
              "      border-radius: 50%;\n",
              "      cursor: pointer;\n",
              "      display: none;\n",
              "      fill: #1967D2;\n",
              "      height: 32px;\n",
              "      padding: 0 0 0 0;\n",
              "      width: 32px;\n",
              "    }\n",
              "\n",
              "    .colab-df-convert:hover {\n",
              "      background-color: #E2EBFA;\n",
              "      box-shadow: 0px 1px 2px rgba(60, 64, 67, 0.3), 0px 1px 3px 1px rgba(60, 64, 67, 0.15);\n",
              "      fill: #174EA6;\n",
              "    }\n",
              "\n",
              "    .colab-df-buttons div {\n",
              "      margin-bottom: 4px;\n",
              "    }\n",
              "\n",
              "    [theme=dark] .colab-df-convert {\n",
              "      background-color: #3B4455;\n",
              "      fill: #D2E3FC;\n",
              "    }\n",
              "\n",
              "    [theme=dark] .colab-df-convert:hover {\n",
              "      background-color: #434B5C;\n",
              "      box-shadow: 0px 1px 3px 1px rgba(0, 0, 0, 0.15);\n",
              "      filter: drop-shadow(0px 1px 2px rgba(0, 0, 0, 0.3));\n",
              "      fill: #FFFFFF;\n",
              "    }\n",
              "  </style>\n",
              "\n",
              "    <script>\n",
              "      const buttonEl =\n",
              "        document.querySelector('#df-9d516a64-ca98-4ada-8b62-d024f90f2c32 button.colab-df-convert');\n",
              "      buttonEl.style.display =\n",
              "        google.colab.kernel.accessAllowed ? 'block' : 'none';\n",
              "\n",
              "      async function convertToInteractive(key) {\n",
              "        const element = document.querySelector('#df-9d516a64-ca98-4ada-8b62-d024f90f2c32');\n",
              "        const dataTable =\n",
              "          await google.colab.kernel.invokeFunction('convertToInteractive',\n",
              "                                                    [key], {});\n",
              "        if (!dataTable) return;\n",
              "\n",
              "        const docLinkHtml = 'Like what you see? Visit the ' +\n",
              "          '<a target=\"_blank\" href=https://colab.research.google.com/notebooks/data_table.ipynb>data table notebook</a>'\n",
              "          + ' to learn more about interactive tables.';\n",
              "        element.innerHTML = '';\n",
              "        dataTable['output_type'] = 'display_data';\n",
              "        await google.colab.output.renderOutput(dataTable, element);\n",
              "        const docLink = document.createElement('div');\n",
              "        docLink.innerHTML = docLinkHtml;\n",
              "        element.appendChild(docLink);\n",
              "      }\n",
              "    </script>\n",
              "  </div>\n",
              "\n",
              "\n",
              "<div id=\"df-93ca0fa9-1407-4fe0-bf4a-8a748711ff2e\">\n",
              "  <button class=\"colab-df-quickchart\" onclick=\"quickchart('df-93ca0fa9-1407-4fe0-bf4a-8a748711ff2e')\"\n",
              "            title=\"Suggest charts\"\n",
              "            style=\"display:none;\">\n",
              "\n",
              "<svg xmlns=\"http://www.w3.org/2000/svg\" height=\"24px\"viewBox=\"0 0 24 24\"\n",
              "     width=\"24px\">\n",
              "    <g>\n",
              "        <path d=\"M19 3H5c-1.1 0-2 .9-2 2v14c0 1.1.9 2 2 2h14c1.1 0 2-.9 2-2V5c0-1.1-.9-2-2-2zM9 17H7v-7h2v7zm4 0h-2V7h2v10zm4 0h-2v-4h2v4z\"/>\n",
              "    </g>\n",
              "</svg>\n",
              "  </button>\n",
              "\n",
              "<style>\n",
              "  .colab-df-quickchart {\n",
              "      --bg-color: #E8F0FE;\n",
              "      --fill-color: #1967D2;\n",
              "      --hover-bg-color: #E2EBFA;\n",
              "      --hover-fill-color: #174EA6;\n",
              "      --disabled-fill-color: #AAA;\n",
              "      --disabled-bg-color: #DDD;\n",
              "  }\n",
              "\n",
              "  [theme=dark] .colab-df-quickchart {\n",
              "      --bg-color: #3B4455;\n",
              "      --fill-color: #D2E3FC;\n",
              "      --hover-bg-color: #434B5C;\n",
              "      --hover-fill-color: #FFFFFF;\n",
              "      --disabled-bg-color: #3B4455;\n",
              "      --disabled-fill-color: #666;\n",
              "  }\n",
              "\n",
              "  .colab-df-quickchart {\n",
              "    background-color: var(--bg-color);\n",
              "    border: none;\n",
              "    border-radius: 50%;\n",
              "    cursor: pointer;\n",
              "    display: none;\n",
              "    fill: var(--fill-color);\n",
              "    height: 32px;\n",
              "    padding: 0;\n",
              "    width: 32px;\n",
              "  }\n",
              "\n",
              "  .colab-df-quickchart:hover {\n",
              "    background-color: var(--hover-bg-color);\n",
              "    box-shadow: 0 1px 2px rgba(60, 64, 67, 0.3), 0 1px 3px 1px rgba(60, 64, 67, 0.15);\n",
              "    fill: var(--button-hover-fill-color);\n",
              "  }\n",
              "\n",
              "  .colab-df-quickchart-complete:disabled,\n",
              "  .colab-df-quickchart-complete:disabled:hover {\n",
              "    background-color: var(--disabled-bg-color);\n",
              "    fill: var(--disabled-fill-color);\n",
              "    box-shadow: none;\n",
              "  }\n",
              "\n",
              "  .colab-df-spinner {\n",
              "    border: 2px solid var(--fill-color);\n",
              "    border-color: transparent;\n",
              "    border-bottom-color: var(--fill-color);\n",
              "    animation:\n",
              "      spin 1s steps(1) infinite;\n",
              "  }\n",
              "\n",
              "  @keyframes spin {\n",
              "    0% {\n",
              "      border-color: transparent;\n",
              "      border-bottom-color: var(--fill-color);\n",
              "      border-left-color: var(--fill-color);\n",
              "    }\n",
              "    20% {\n",
              "      border-color: transparent;\n",
              "      border-left-color: var(--fill-color);\n",
              "      border-top-color: var(--fill-color);\n",
              "    }\n",
              "    30% {\n",
              "      border-color: transparent;\n",
              "      border-left-color: var(--fill-color);\n",
              "      border-top-color: var(--fill-color);\n",
              "      border-right-color: var(--fill-color);\n",
              "    }\n",
              "    40% {\n",
              "      border-color: transparent;\n",
              "      border-right-color: var(--fill-color);\n",
              "      border-top-color: var(--fill-color);\n",
              "    }\n",
              "    60% {\n",
              "      border-color: transparent;\n",
              "      border-right-color: var(--fill-color);\n",
              "    }\n",
              "    80% {\n",
              "      border-color: transparent;\n",
              "      border-right-color: var(--fill-color);\n",
              "      border-bottom-color: var(--fill-color);\n",
              "    }\n",
              "    90% {\n",
              "      border-color: transparent;\n",
              "      border-bottom-color: var(--fill-color);\n",
              "    }\n",
              "  }\n",
              "</style>\n",
              "\n",
              "  <script>\n",
              "    async function quickchart(key) {\n",
              "      const quickchartButtonEl =\n",
              "        document.querySelector('#' + key + ' button');\n",
              "      quickchartButtonEl.disabled = true;  // To prevent multiple clicks.\n",
              "      quickchartButtonEl.classList.add('colab-df-spinner');\n",
              "      try {\n",
              "        const charts = await google.colab.kernel.invokeFunction(\n",
              "            'suggestCharts', [key], {});\n",
              "      } catch (error) {\n",
              "        console.error('Error during call to suggestCharts:', error);\n",
              "      }\n",
              "      quickchartButtonEl.classList.remove('colab-df-spinner');\n",
              "      quickchartButtonEl.classList.add('colab-df-quickchart-complete');\n",
              "    }\n",
              "    (() => {\n",
              "      let quickchartButtonEl =\n",
              "        document.querySelector('#df-93ca0fa9-1407-4fe0-bf4a-8a748711ff2e button');\n",
              "      quickchartButtonEl.style.display =\n",
              "        google.colab.kernel.accessAllowed ? 'block' : 'none';\n",
              "    })();\n",
              "  </script>\n",
              "</div>\n",
              "\n",
              "    </div>\n",
              "  </div>\n"
            ],
            "application/vnd.google.colaboratory.intrinsic+json": {
              "type": "dataframe",
              "variable_name": "df",
              "summary": "{\n  \"name\": \"df\",\n  \"rows\": 4000,\n  \"fields\": [\n    {\n      \"column\": \"text\",\n      \"properties\": {\n        \"dtype\": \"string\",\n        \"num_unique_values\": 3998,\n        \"samples\": [\n          \"\\u0648\\u0625\\u064a\\u0647 \\u0631\\u0623\\u064a\\u0643 \\u0627\\u0644\\u0648\\u0627\\u0643\\u062f \\u064a\\u0624\\u064a\\u062f \\u0627\\u0644\\u0645\\u062b\\u0644\\u0644\\u064a\\u064a\\u0646 \\u062c\\u0646\\u0633\\u064a\\u0627\",\n          \"\\u0627\\u0644\\u0648\\u062d\\u064a\\u062f \\u0627\\u0644\\u0644\\u064a \\u0628\\u0627\\u0644\\u0639\\u0627\\u0644\\u0645 \\u0645\\u0634 \\u0645\\u0637\\u0628\\u0639 \\u0627\\u0633\\u0631\\u0627\\u0626\\u064a\\u0644 \\u0627\\u0644\\u0641\\u0646\\u0627\\u0646 \\u0634\\u0639\\u0628\\u0627\\u0646 \\u0639\\u0628\\u062f\\u0627\\u0644\\u0631\\u062d\\u064a\\u0645\",\n          \"\\u0627\\u062a\\u0645\\u0646\\u0649 \\u062a\\u062d\\u0643\\u064a \\u0627\\u0644\\u0633\\u0639\\u0648\\u062f\\u064a \\u0627\\u0644\\u064a \\u064a\\u0633\\u0628 \\u0648\\u064a\\u0634\\u062a\\u0645 \\u0627\\u0644\\u0641\\u0644\\u0633\\u0637\\u0646\\u064a\\u0646\"\n        ],\n        \"semantic_type\": \"\",\n        \"description\": \"\"\n      }\n    },\n    {\n      \"column\": \"labels\",\n      \"properties\": {\n        \"dtype\": \"number\",\n        \"std\": 0,\n        \"min\": 0,\n        \"max\": 1,\n        \"num_unique_values\": 2,\n        \"samples\": [\n          1,\n          0\n        ],\n        \"semantic_type\": \"\",\n        \"description\": \"\"\n      }\n    }\n  ]\n}"
            }
          },
          "metadata": {},
          "execution_count": 19
        }
      ],
      "source": [
        "df.head()"
      ]
    },
    {
      "cell_type": "markdown",
      "source": [
        "**بعد ما قمت بعمل تنظيف للنص سأقوم بحفظة في ملف جديد**"
      ],
      "metadata": {
        "id": "82Ihei36hPyH"
      },
      "id": "82Ihei36hPyH"
    },
    {
      "cell_type": "code",
      "execution_count": 20,
      "id": "XmZciBOXWvYL",
      "metadata": {
        "id": "XmZciBOXWvYL"
      },
      "outputs": [],
      "source": [
        "df.to_csv('arabic_comments_cleaned.csv', index=False)"
      ]
    }
  ],
  "metadata": {
    "colab": {
      "provenance": []
    },
    "kernelspec": {
      "display_name": "Python 3 (ipykernel)",
      "language": "python",
      "name": "python3"
    },
    "language_info": {
      "codemirror_mode": {
        "name": "ipython",
        "version": 3
      },
      "file_extension": ".py",
      "mimetype": "text/x-python",
      "name": "python",
      "nbconvert_exporter": "python",
      "pygments_lexer": "ipython3",
      "version": "3.10.13"
    }
  },
  "nbformat": 4,
  "nbformat_minor": 5
}